{
 "cells": [
  {
   "cell_type": "code",
   "execution_count": 1,
   "metadata": {},
   "outputs": [],
   "source": [
    "import numpy as np\n",
    "import matplotlib.pyplot as plt\n",
    "import torch\n",
    "from torch import optim\n",
    "from torch import erf\n",
    "import torch.nn.functional as F"
   ]
  },
  {
   "cell_type": "code",
   "execution_count": 2,
   "metadata": {},
   "outputs": [
    {
     "data": {
      "text/html": [
       "<style>#sk-container-id-1 {color: black;}#sk-container-id-1 pre{padding: 0;}#sk-container-id-1 div.sk-toggleable {background-color: white;}#sk-container-id-1 label.sk-toggleable__label {cursor: pointer;display: block;width: 100%;margin-bottom: 0;padding: 0.3em;box-sizing: border-box;text-align: center;}#sk-container-id-1 label.sk-toggleable__label-arrow:before {content: \"▸\";float: left;margin-right: 0.25em;color: #696969;}#sk-container-id-1 label.sk-toggleable__label-arrow:hover:before {color: black;}#sk-container-id-1 div.sk-estimator:hover label.sk-toggleable__label-arrow:before {color: black;}#sk-container-id-1 div.sk-toggleable__content {max-height: 0;max-width: 0;overflow: hidden;text-align: left;background-color: #f0f8ff;}#sk-container-id-1 div.sk-toggleable__content pre {margin: 0.2em;color: black;border-radius: 0.25em;background-color: #f0f8ff;}#sk-container-id-1 input.sk-toggleable__control:checked~div.sk-toggleable__content {max-height: 200px;max-width: 100%;overflow: auto;}#sk-container-id-1 input.sk-toggleable__control:checked~label.sk-toggleable__label-arrow:before {content: \"▾\";}#sk-container-id-1 div.sk-estimator input.sk-toggleable__control:checked~label.sk-toggleable__label {background-color: #d4ebff;}#sk-container-id-1 div.sk-label input.sk-toggleable__control:checked~label.sk-toggleable__label {background-color: #d4ebff;}#sk-container-id-1 input.sk-hidden--visually {border: 0;clip: rect(1px 1px 1px 1px);clip: rect(1px, 1px, 1px, 1px);height: 1px;margin: -1px;overflow: hidden;padding: 0;position: absolute;width: 1px;}#sk-container-id-1 div.sk-estimator {font-family: monospace;background-color: #f0f8ff;border: 1px dotted black;border-radius: 0.25em;box-sizing: border-box;margin-bottom: 0.5em;}#sk-container-id-1 div.sk-estimator:hover {background-color: #d4ebff;}#sk-container-id-1 div.sk-parallel-item::after {content: \"\";width: 100%;border-bottom: 1px solid gray;flex-grow: 1;}#sk-container-id-1 div.sk-label:hover label.sk-toggleable__label {background-color: #d4ebff;}#sk-container-id-1 div.sk-serial::before {content: \"\";position: absolute;border-left: 1px solid gray;box-sizing: border-box;top: 0;bottom: 0;left: 50%;z-index: 0;}#sk-container-id-1 div.sk-serial {display: flex;flex-direction: column;align-items: center;background-color: white;padding-right: 0.2em;padding-left: 0.2em;position: relative;}#sk-container-id-1 div.sk-item {position: relative;z-index: 1;}#sk-container-id-1 div.sk-parallel {display: flex;align-items: stretch;justify-content: center;background-color: white;position: relative;}#sk-container-id-1 div.sk-item::before, #sk-container-id-1 div.sk-parallel-item::before {content: \"\";position: absolute;border-left: 1px solid gray;box-sizing: border-box;top: 0;bottom: 0;left: 50%;z-index: -1;}#sk-container-id-1 div.sk-parallel-item {display: flex;flex-direction: column;z-index: 1;position: relative;background-color: white;}#sk-container-id-1 div.sk-parallel-item:first-child::after {align-self: flex-end;width: 50%;}#sk-container-id-1 div.sk-parallel-item:last-child::after {align-self: flex-start;width: 50%;}#sk-container-id-1 div.sk-parallel-item:only-child::after {width: 0;}#sk-container-id-1 div.sk-dashed-wrapped {border: 1px dashed gray;margin: 0 0.4em 0.5em 0.4em;box-sizing: border-box;padding-bottom: 0.4em;background-color: white;}#sk-container-id-1 div.sk-label label {font-family: monospace;font-weight: bold;display: inline-block;line-height: 1.2em;}#sk-container-id-1 div.sk-label-container {text-align: center;}#sk-container-id-1 div.sk-container {/* jupyter's `normalize.less` sets `[hidden] { display: none; }` but bootstrap.min.css set `[hidden] { display: none !important; }` so we also need the `!important` here to be able to override the default hidden behavior on the sphinx rendered scikit-learn.org. See: https://github.com/scikit-learn/scikit-learn/issues/21755 */display: inline-block !important;position: relative;}#sk-container-id-1 div.sk-text-repr-fallback {display: none;}</style><div id=\"sk-container-id-1\" class=\"sk-top-container\"><div class=\"sk-text-repr-fallback\"><pre>GaussianMixture(n_components=3)</pre><b>In a Jupyter environment, please rerun this cell to show the HTML representation or trust the notebook. <br />On GitHub, the HTML representation is unable to render, please try loading this page with nbviewer.org.</b></div><div class=\"sk-container\" hidden><div class=\"sk-item\"><div class=\"sk-estimator sk-toggleable\"><input class=\"sk-toggleable__control sk-hidden--visually\" id=\"sk-estimator-id-1\" type=\"checkbox\" checked><label for=\"sk-estimator-id-1\" class=\"sk-toggleable__label sk-toggleable__label-arrow\">GaussianMixture</label><div class=\"sk-toggleable__content\"><pre>GaussianMixture(n_components=3)</pre></div></div></div></div></div>"
      ],
      "text/plain": [
       "GaussianMixture(n_components=3)"
      ]
     },
     "execution_count": 2,
     "metadata": {},
     "output_type": "execute_result"
    }
   ],
   "source": [
    "from sklearn.mixture import GaussianMixture\n",
    "np.random.seed(0)\n",
    "data = np.random.rand(100,2)\n",
    "gmm_gt = GaussianMixture(n_components=3)\n",
    "gmm_est = GaussianMixture(n_components=3)\n",
    "gmm_gt.fit(data)\n",
    "gmm_est.fit(data)"
   ]
  },
  {
   "cell_type": "code",
   "execution_count": 4,
   "metadata": {},
   "outputs": [],
   "source": [
    "import numpy as np\n",
    "from scipy.stats import multivariate_normal\n",
    "from sklearn.mixture import GaussianMixture\n",
    "\n",
    "np.random.seed(0)\n",
    "data = np.random.rand(100,2)\n",
    "gmm_gt = GaussianMixture(n_components=3)\n",
    "gmm_est = GaussianMixture(n_components=3)\n",
    "gmm_gt.fit(data)\n",
    "gmm_est.fit(data)\n",
    "\n",
    "def gmm_pdf(x, weights, means, covariances):\n",
    "\n",
    "    K = len(weights)\n",
    "    pdf = 0.0\n",
    "    \n",
    "    for k in range(K):\n",
    "        # Calculate the PDF for each Gaussian component\n",
    "        component_pdf = weights[k] * multivariate_normal.pdf(x, mean=means[k], cov=covariances[k])\n",
    "        pdf += component_pdf\n",
    "\n",
    "    return pdf\n",
    "\n",
    "def gmm_kl(gmm_p, gmm_q, n_samples=1e7):\n",
    "    X = gmm_p.sample(n_samples)[0]\n",
    "    p_X = (gmm_pdf(X, gmm_p.weights_, gmm_p.means_, gmm_p.covariances_))\n",
    "    q_X = (gmm_pdf(X, gmm_q.weights_, gmm_q.means_, gmm_q.covariances_))\n",
    "    return np.mean(np.log(p_X/q_X))"
   ]
  },
  {
   "cell_type": "code",
   "execution_count": 5,
   "metadata": {},
   "outputs": [],
   "source": [
    "def loss_MoG(x,y,mu1,mu2,sig1,sig2,pi):\n",
    "    loss = torch.sum(torch.log(torch.sum(pi*torch.exp(-(x_t - mu1)**2/2/sig1**2)/sig1 *(erf((x_t -mu2)/(torch.sqrt(torch.tensor(2))*sig2))+1),0))) +\\\n",
    "           torch.sum(torch.log(torch.sum(pi*torch.exp(-(y_t - mu2)**2/2/sig2**2)/sig2 *(erf((y_t -mu1)/(torch.sqrt(torch.tensor(2))*sig1))+1),0)))\n",
    "    return -loss"
   ]
  },
  {
   "cell_type": "code",
   "execution_count": 6,
   "metadata": {},
   "outputs": [
    {
     "name": "stdout",
     "output_type": "stream",
     "text": [
      "Iteration 0: loss = 164.26007080078125,\n",
      "Iteration 1000: loss = 117.06965637207031,\n",
      "Iteration 2000: loss = 115.56617736816406,\n",
      "Iteration 3000: loss = 115.5250015258789,\n",
      "Iteration 4000: loss = 115.52375793457031,\n",
      "Iteration 5000: loss = 115.52374267578125,\n",
      "Iteration 6000: loss = 115.52375793457031,\n",
      "Iteration 7000: loss = 115.52374267578125,\n",
      "Iteration 8000: loss = 115.52375793457031,\n",
      "Iteration 9000: loss = 115.52375793457031,\n",
      "KL 0.19728769839223517\n",
      "Iteration 0: loss = 1670.328369140625,\n",
      "Iteration 1000: loss = 1185.9508056640625,\n",
      "Iteration 2000: loss = 1171.931396484375,\n",
      "Iteration 3000: loss = 1171.665283203125,\n",
      "Iteration 4000: loss = 1171.659912109375,\n",
      "Iteration 5000: loss = 1171.6600341796875,\n",
      "Iteration 6000: loss = 1171.659912109375,\n",
      "Iteration 7000: loss = 1171.659912109375,\n",
      "Iteration 8000: loss = 1171.6600341796875,\n",
      "Iteration 9000: loss = 1171.659912109375,\n",
      "KL 0.011774248205265205\n",
      "Iteration 0: loss = 16822.39453125,\n",
      "Iteration 1000: loss = 11970.08984375,\n",
      "Iteration 2000: loss = 11828.9375,\n",
      "Iteration 3000: loss = 11827.00390625,\n",
      "Iteration 4000: loss = 11826.99609375,\n",
      "Iteration 5000: loss = 11826.99609375,\n",
      "Iteration 6000: loss = 11826.99609375,\n",
      "Iteration 7000: loss = 11826.99609375,\n",
      "Iteration 8000: loss = 11826.99609375,\n",
      "Iteration 9000: loss = 11826.99609375,\n",
      "KL 0.0010260760205641488\n",
      "Iteration 0: loss = 168893.484375,\n",
      "Iteration 1000: loss = 120308.9296875,\n",
      "Iteration 2000: loss = 118855.71875,\n",
      "Iteration 3000: loss = 118835.15625,\n",
      "Iteration 4000: loss = 118835.03125,\n",
      "Iteration 5000: loss = 118835.03125,\n",
      "Iteration 6000: loss = 118835.0390625,\n",
      "Iteration 7000: loss = 118835.03125,\n",
      "Iteration 8000: loss = 118835.03125,\n",
      "Iteration 9000: loss = 118835.03125,\n",
      "KL 6.807849659974746e-05\n"
     ]
    }
   ],
   "source": [
    "pi_true = np.array([0.2,0.3,0.5])\n",
    "mu1_true =  np.array([2,10,6])\n",
    "mu2_true =  np.array([1,9,5])\n",
    "\n",
    "sig1_true = np.array([1,1,1])\n",
    "sig2_true = np.array([1,1,1])\n",
    "\n",
    "KL_list = []\n",
    "\n",
    "for num_samples in [1e2,1e3,1e4,1e5]:\n",
    "\n",
    "\n",
    "    a,b,c = [],[],[]\n",
    "    K = len(pi_true)\n",
    "    np.random.seed(0)\n",
    "    for i in range(K):\n",
    "        a_i = sig1_true[i]*np.random.randn(int(num_samples*pi_true[i]))+mu1_true[i]\n",
    "        b_i = sig2_true[i]*np.random.randn(int(num_samples*pi_true[i]))+mu2_true[i]\n",
    "        a,b = np.concatenate([a,a_i]),np.concatenate([b,b_i])\n",
    "    a_copy = a.copy()\n",
    "    b_copy = b.copy()\n",
    "\n",
    "    a[a_copy<=b_copy] =  np.nan\n",
    "    b[b_copy<a_copy] =  np.nan\n",
    "\n",
    "    x = a[~np.isnan(a)]\n",
    "    y = b[~np.isnan(b)]\n",
    "    x_t,y_t = torch.Tensor(x),torch.Tensor(y)\n",
    "    \n",
    "    # initialization\n",
    "    pi = torch.Tensor([1.0,2.0,3.0]).reshape(-1,1)\n",
    "    gmm = GaussianMixture(n_components=3)\n",
    "    gmm.fit(a[~np.isnan(a)].reshape(-1,1))\n",
    "    mu1_init = gmm.means_\n",
    "    sig1_init = gmm.covariances_.flatten()\n",
    "    gmm.fit(b[~np.isnan(b)].reshape(-1,1))\n",
    "    mu2_init = gmm.means_\n",
    "    sig2_init = gmm.covariances_.flatten()\n",
    "    \n",
    "    mu1 = torch.Tensor(np.sort(mu1_init.flatten())).reshape(-1,1)\n",
    "    mu2 = torch.Tensor(np.sort(mu2_init.flatten())).reshape(-1,1)\n",
    "    sig1 = torch.Tensor([1.0,1.0,1.0]).reshape(-1,1)\n",
    "    sig2 = torch.Tensor([1.0,1.0,1.0]).reshape(-1,1) \n",
    "    \n",
    "    pi.requires_grad = True \n",
    "    mu1.requires_grad = True\n",
    "    mu2.requires_grad = True\n",
    "    sig1.requires_grad = True\n",
    "    sig2.requires_grad = True\n",
    "\n",
    "    learning_rate = 0.001\n",
    "    optimizer = optim.Adam([pi,mu1,mu2,sig1,sig2], lr=learning_rate)\n",
    "    num_iterations = 10000\n",
    "    for i in range(num_iterations):\n",
    "        optimizer.zero_grad() \n",
    "\n",
    "        output = loss_MoG(x_t,y_t,mu1,mu2,sig1,sig2,F.softmax(pi,dim=0))\n",
    "        output.backward() \n",
    "\n",
    "        optimizer.step()  \n",
    "\n",
    "        if i % 1000 == 0:\n",
    "            print(f\"Iteration {i}: loss = {output.item()},\")\n",
    "            \n",
    "    gmm_gt.weights_ = pi_true\n",
    "    gmm_gt.means_ = np.concatenate([mu1_true.reshape(-1,1),mu2_true.reshape(-1,1)],axis=1)\n",
    "    for i in range(K):\n",
    "        gmm_gt.covariances_[i] = np.diag([sig1_true[i],sig2_true[i]])\n",
    "\n",
    "    gmm_est.weights_ = F.softmax(pi,dim=0).detach().numpy().flatten()\n",
    "    gmm_est.means_ = np.concatenate([mu1.detach().numpy().reshape(-1,1),mu2.detach().numpy().reshape(-1,1)],axis=1)\n",
    "    for i in range(K):\n",
    "        gmm_est.covariances_[i] = np.diag([sig1.detach().numpy().flatten()[i],sig2.detach().numpy().flatten()[i]])\n",
    "        \n",
    "    KL = gmm_kl(gmm_gt,gmm_est)\n",
    "#     print(mu1,mu2,sig1,sig2)\n",
    "    print(\"KL\",KL)\n",
    "    KL_list.append(KL)\n",
    "    "
   ]
  },
  {
   "cell_type": "code",
   "execution_count": 12,
   "metadata": {},
   "outputs": [
    {
     "name": "stdout",
     "output_type": "stream",
     "text": [
      "1.97e-01\n",
      "1.18e-02\n",
      "1.03e-03\n",
      "6.81e-05\n"
     ]
    }
   ],
   "source": [
    "for number in KL_list:\n",
    "    formatted_number = \"{:.2e}\".format(number)\n",
    "    print(formatted_number)"
   ]
  },
  {
   "cell_type": "code",
   "execution_count": null,
   "metadata": {},
   "outputs": [],
   "source": []
  }
 ],
 "metadata": {
  "kernelspec": {
   "display_name": "ml",
   "language": "python",
   "name": "ml"
  },
  "language_info": {
   "codemirror_mode": {
    "name": "ipython",
    "version": 3
   },
   "file_extension": ".py",
   "mimetype": "text/x-python",
   "name": "python",
   "nbconvert_exporter": "python",
   "pygments_lexer": "ipython3",
   "version": "3.8.5"
  }
 },
 "nbformat": 4,
 "nbformat_minor": 4
}
